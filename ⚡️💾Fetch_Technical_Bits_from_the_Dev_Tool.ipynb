{
  "nbformat": 4,
  "nbformat_minor": 0,
  "metadata": {
    "colab": {
      "name": "⚡️💾Fetch Technical Bits from the Dev.Tool",
      "provenance": [],
      "collapsed_sections": [],
      "authorship_tag": "ABX9TyP8pKaTfMYMlGMcdaW7RYPR",
      "include_colab_link": true
    },
    "kernelspec": {
      "name": "python3",
      "display_name": "Python 3"
    },
    "language_info": {
      "name": "python"
    }
  },
  "cells": [
    {
      "cell_type": "markdown",
      "metadata": {
        "id": "view-in-github",
        "colab_type": "text"
      },
      "source": [
        "<a href=\"https://colab.research.google.com/github/simodepth/Dev.Tool/blob/main/%E2%9A%A1%EF%B8%8F%F0%9F%92%BEFetch_Technical_Bits_from_the_Dev_Tool.ipynb\" target=\"_parent\"><img src=\"https://colab.research.google.com/assets/colab-badge.svg\" alt=\"Open In Colab\"/></a>"
      ]
    },
    {
      "cell_type": "markdown",
      "source": [
        "#⚡️💾 Web Performance Snippets\n",
        "\n",
        "\n",
        "---\n",
        "A curated list of snippets to get Web Performance metrics to use in the browser console\n"
      ],
      "metadata": {
        "id": "B0I15JZ2Loh0"
      }
    },
    {
      "cell_type": "markdown",
      "source": [
        "#Requirements & Assumptions \n",
        "\n",
        "\n",
        "---\n",
        "\n",
        "- Copy and paste the code into the **Console** from your **Chrome Dev.Tool** \n"
      ],
      "metadata": {
        "id": "hGkSkCvhNKis"
      }
    },
    {
      "cell_type": "markdown",
      "source": [
        "#Core Web Vitals\n",
        "\n",
        "\n",
        "---\n",
        "##Largest Contentful Page\n"
      ],
      "metadata": {
        "id": "kyLA6hWYLuSz"
      }
    },
    {
      "cell_type": "code",
      "execution_count": null,
      "metadata": {
        "id": "KB67ZmgqLkez"
      },
      "outputs": [],
      "source": [
        "/**\n",
        " * PerformanceObserver\n",
        " */\n",
        "const po = new PerformanceObserver((list) => {\n",
        "  let entries = list.getEntries();\n",
        "\n",
        "  entries = dedupe(entries, \"startTime\");\n",
        "\n",
        "  /**\n",
        "   * Print all entries of LCP\n",
        "   */\n",
        "  entries.forEach((item, i) => {\n",
        "    console.dir(item);\n",
        "    console.log(\n",
        "      `${i + 1} current LCP item : ${item.element}: ${item.startTime}`\n",
        "    );\n",
        "    /**\n",
        "     * Highlight LCP elements on the page\n",
        "     */\n",
        "    item.element ? (item.element.style = \"border: 5px dotted blue;\") : \"\";\n",
        "  });\n",
        "\n",
        "  /**\n",
        "   * LCP is the lastEntry in getEntries Array\n",
        "   */\n",
        "  const lastEntry = entries[entries.length - 1];\n",
        "  /**\n",
        "   * Print final LCP\n",
        "   */\n",
        "  console.log(`LCP is: ${lastEntry.startTime}`);\n",
        "});\n",
        "\n",
        "/**\n",
        " * Start observing for largest-contentful-paint\n",
        " * buffered true getEntries prior to this script execution\n",
        " */\n",
        "po.observe({ type: \"largest-contentful-paint\", buffered: true });\n",
        "\n",
        "function dedupe(arr, key) {\n",
        "  return [...new Map(arr.map((item) => [item[key], item])).values()];\n",
        "}"
      ]
    },
    {
      "cell_type": "markdown",
      "source": [
        "##Cumulative Layout Shift"
      ],
      "metadata": {
        "id": "fcelyeYXL2Dr"
      }
    },
    {
      "cell_type": "code",
      "source": [
        "try {\n",
        "  let cumulativeLayoutShiftScore = 0;\n",
        "  const observer = new PerformanceObserver((list) => {\n",
        "    for (const entry of list.getEntries()) {\n",
        "      if (!entry.hadRecentInput) {\n",
        "        cumulativeLayoutShiftScore += entry.value;\n",
        "      }\n",
        "    }\n",
        "  });\n",
        "\n",
        "  observer.observe({ type: \"layout-shift\", buffered: true });\n",
        "\n",
        "  document.addEventListener(\"visibilitychange\", () => {\n",
        "    if (document.visibilityState === \"hidden\") {\n",
        "      observer.takeRecords();\n",
        "      observer.disconnect();\n",
        "\n",
        "      console.log(`CLS: ${cumulativeLayoutShiftScore}`);\n",
        "    }\n",
        "  });\n",
        "} catch (e) {\n",
        "  console.log(`Browser doesn't support this API`);\n",
        "}"
      ],
      "metadata": {
        "id": "J78c8enGL2OF"
      },
      "execution_count": null,
      "outputs": []
    },
    {
      "cell_type": "markdown",
      "source": [
        "#Loading\n",
        "\n",
        "\n",
        "---\n",
        "\n",
        "##Scripts Loading\n",
        "\n",
        "List all the `scripts` in the DOM and show a table to see if are loaded async and/or defer"
      ],
      "metadata": {
        "id": "zDTd7-bqMA6u"
      }
    },
    {
      "cell_type": "code",
      "source": [
        "const scripts = document.querySelectorAll(\"script[src]\");\n",
        "\n",
        "const scriptsLoading = [...scripts].map((obj) => {\n",
        "  let newObj = {};\n",
        "  newObj = {\n",
        "    src: obj.src,\n",
        "    async: obj.async,\n",
        "    defer: obj.defer,\n",
        "  };\n",
        "  return newObj;\n",
        "});\n",
        "console.table(scriptsLoading);"
      ],
      "metadata": {
        "id": "0zzoztEzMJrI"
      },
      "execution_count": null,
      "outputs": []
    },
    {
      "cell_type": "markdown",
      "source": [
        "#Resource Hints\n",
        "\n",
        "\n",
        "---\n",
        "\n",
        "Check if the page has resources hints"
      ],
      "metadata": {
        "id": "5xU4jBUzMMA4"
      }
    },
    {
      "cell_type": "code",
      "source": [
        "const rels = [\n",
        "  \"preload\",\n",
        "  \"prefetch\",\n",
        "  \"preconnect\",\n",
        "  \"dns-prefetch\",\n",
        "  \"preconnect dns-prefetch\",\n",
        "  \"prerender\",\n",
        "  \"modulepreload\",\n",
        "];\n",
        "\n",
        "rels.forEach((element) => {\n",
        "  const linkElements = document.querySelectorAll(`link[rel=\"${element}\"]`);\n",
        "  const dot = linkElements.length > 0 ? \"🟩\" : \"🟥\";\n",
        "  console.log(`${dot} ${element}`);\n",
        "  linkElements.forEach((el) => console.log(el));\n",
        "});"
      ],
      "metadata": {
        "id": "GJYSBYN3MTR-"
      },
      "execution_count": null,
      "outputs": []
    },
    {
      "cell_type": "markdown",
      "source": [
        "#Find Above The Fold Lazy Loaded Images\n",
        "\n",
        "---\n",
        "\n",
        "\n",
        "List all images that have loading=\"lazy\" above the fold"
      ],
      "metadata": {
        "id": "cMAyQb5WMV_c"
      }
    },
    {
      "cell_type": "code",
      "source": [
        "function findATFLazyLoadedImages() {\n",
        "  const lazy = document.querySelectorAll('[loading=\"lazy\"]');\n",
        "  let flag = false;\n",
        "  lazy.forEach((tag) => {\n",
        "    const position = parseInt(tag.getBoundingClientRect().top);\n",
        "    if (position < window.innerHeight && position !== 0) {\n",
        "      console.log(tag, position);\n",
        "      flag = true;\n",
        "    }\n",
        "  });\n",
        "\n",
        "  return flag;\n",
        "}\n",
        "\n",
        "console.log(findATFLazyLoadedImages());"
      ],
      "metadata": {
        "id": "y-YsPqjDMWPC"
      },
      "execution_count": null,
      "outputs": []
    },
    {
      "cell_type": "markdown",
      "source": [
        "#Image Info\n",
        "\n",
        "\n",
        "---\n",
        "\n",
        "\n",
        "List all image resources and sort by (name, transferSize, encodedBodySize, decodedBodySize, initiatorType)"
      ],
      "metadata": {
        "id": "Bylf3hFIMenP"
      }
    },
    {
      "cell_type": "code",
      "source": [
        "function getImgs(sortBy) {\n",
        "  const imgs = [];\n",
        "\n",
        "  const resourceListEntries = performance.getEntriesByType(\"resource\");\n",
        "  resourceListEntries.forEach(\n",
        "    ({\n",
        "      name,\n",
        "      transferSize,\n",
        "      encodedBodySize,\n",
        "      decodedBodySize,\n",
        "      initiatorType,\n",
        "    }) => {\n",
        "      if (initiatorType == \"img\") {\n",
        "        imgs.push({\n",
        "          name,\n",
        "          transferSize,\n",
        "          decodedBodySize,\n",
        "          encodedBodySize,\n",
        "        });\n",
        "      }\n",
        "    }\n",
        "  );\n",
        "\n",
        "  const imgList = imgs.sort((a, b) => {\n",
        "    return b[sortBy] - a[sortBy];\n",
        "  });\n",
        "\n",
        "  return imgList;\n",
        "}\n",
        "console.table(getImgs(\"encodedBodySize\"));"
      ],
      "metadata": {
        "id": "XVGAX3VPMe96"
      },
      "execution_count": null,
      "outputs": []
    },
    {
      "cell_type": "markdown",
      "source": [
        "#First And Third Party Script Info\n",
        "\n",
        "\n",
        "---\n",
        "\n",
        "\n",
        "List all scripts using PerformanceResourceTiming API and separating them by first and third party"
      ],
      "metadata": {
        "id": "h8b07SbNMmtw"
      }
    },
    {
      "cell_type": "code",
      "source": [
        "// ex: katespade.com - list firsty party subdomains in HOSTS array\n",
        "const HOSTS = [\"assets.katespade.com\"];\n",
        "\n",
        "function getScriptInfo() {\n",
        "  const resourceListEntries = performance.getEntriesByType(\"resource\");\n",
        "  // set for first party scripts\n",
        "  const first = [];\n",
        "  // set for third party scripts\n",
        "  const third = [];\n",
        "\n",
        "  resourceListEntries.forEach((resource) => {\n",
        "    // check for initiator type\n",
        "    const value = \"initiatorType\" in resource;\n",
        "    if (value) {\n",
        "      if (resource.initiatorType === \"script\") {\n",
        "        const { host } = new URL(resource.name);\n",
        "        // check if resource url host matches location.host = first party script\n",
        "        if (host === location.host || HOSTS.includes(host)) {\n",
        "          const json = resource.toJSON();\n",
        "          first.push({ ...json, type: \"First Party\" });\n",
        "        } else {\n",
        "          // add to third party script\n",
        "          const json = resource.toJSON();\n",
        "          third.push({ ...json, type: \"Third Party\" });\n",
        "        }\n",
        "      }\n",
        "    }\n",
        "  });\n",
        "\n",
        "  return {\n",
        "    ...(first.length && { firstParty: first }),\n",
        "    ...(third.length && { thirdParty: third }),\n",
        "  };\n",
        "}\n",
        "\n",
        "const { firstParty, thirdParty } = getScriptInfo();\n",
        "\n",
        "console.groupCollapsed(\"FIRST PARTY SCRIPTS\");\n",
        "console.table(firstParty);\n",
        "console.groupEnd();\n",
        "console.groupCollapsed(\"THIRD PARTY SCRIPTS\");\n",
        "console.table(thirdParty);\n",
        "console.groupEnd();\n",
        "\n",
        "/*\n",
        "Choose which properties to display\n",
        "https://developer.mozilla.org/en-US/docs/Web/API/console/table\n",
        "\n",
        "console.groupCollapsed(\"FIRST PARTY SCRIPTS\");\n",
        "console.table(firstParty, [\"name\", \"nextHopProtocol\"]);\n",
        "console.groupEnd();\n",
        "console.groupCollapsed(\"THIRD PARTY SCRIPTS\", [\"name\", \"nextHopProtocol\"]);\n",
        "console.table(thirdParty);\n",
        "console.groupEnd();\n",
        "*/"
      ],
      "metadata": {
        "id": "7RZeg5ZuMm4s"
      },
      "execution_count": null,
      "outputs": []
    }
  ]
}